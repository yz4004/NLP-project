{
 "cells": [
  {
   "cell_type": "code",
   "execution_count": 2,
   "id": "bb05b270",
   "metadata": {},
   "outputs": [],
   "source": [
    "from conll_reader import DependencyStructure, DependencyEdge, conll_reader\n",
    "from collections import defaultdict\n",
    "import copy\n",
    "import sys\n",
    "\n",
    "import numpy as np"
   ]
  },
  {
   "cell_type": "code",
   "execution_count": null,
   "id": "efad2e1f",
   "metadata": {},
   "outputs": [],
   "source": []
  },
  {
   "cell_type": "code",
   "execution_count": 3,
   "id": "63dc5193",
   "metadata": {},
   "outputs": [
    {
     "name": "stdout",
     "output_type": "stream",
     "text": [
      "['ab', 'c']\n",
      "['ab', 'c']\n"
     ]
    }
   ],
   "source": [
    "s = \" ab c\\n\"\n",
    "\n",
    "print(s.split())\n",
    "print(s.strip().split())"
   ]
  },
  {
   "cell_type": "code",
   "execution_count": 18,
   "id": "8daf62a3",
   "metadata": {},
   "outputs": [
    {
     "name": "stdout",
     "output_type": "stream",
     "text": [
      "['ab', 'cd']\n"
     ]
    }
   ],
   "source": [
    "s = \" ab \\t cd\\n\"\n",
    "\n",
    "s1 = s.strip().split()\n",
    "print(s1)"
   ]
  },
  {
   "cell_type": "code",
   "execution_count": 19,
   "id": "6339d3ea",
   "metadata": {},
   "outputs": [
    {
     "name": "stdout",
     "output_type": "stream",
     "text": [
      "abcd \n",
      " ab\tcd\n"
     ]
    }
   ],
   "source": [
    "print(  s1[0] + s1[1], \"\\n\",\n",
    "        s1[0] + \"\\t\" + s1[1])"
   ]
  },
  {
   "cell_type": "code",
   "execution_count": null,
   "id": "b535ebea",
   "metadata": {},
   "outputs": [],
   "source": []
  },
  {
   "cell_type": "code",
   "execution_count": null,
   "id": "babbb1b8",
   "metadata": {},
   "outputs": [],
   "source": [
    "a = [\"aa\", \"dd\"]\n",
    "print( dict((index, x) for (index, x) in enumerate(a))  )\n",
    "print(list((index, x) for (index, x) in enumerate(a)))\n",
    "print([(index, x) for (index, x) in enumerate(a)])\n",
    "# print((index, x) for (index, x) in enumerate(a))\n",
    "# <generator object <genexpr> at 0x000001CE2488D350> generator 放入 dict 可迭代是一方面，每个迭代输出必须是 二元tuple\n",
    "\n",
    "# print(dict((\"1\",\"b\" )))\n",
    "print(dict([(\"1\", \"b\")] ) )  # dict() 里接受  [(,)] 字典套二元tuple\n",
    "# print(dict([(\"1\", \"b\", \"c\") ]))\n",
    "# ValueError: dictionary update sequence element #0 has length 3; 2 is required 要求二元tuple\n",
    "\n",
    "# 更多用法\n",
    "# https: // www.runoob.com / python / python - func - dict.html?msclkid = 32\n",
    "# bd3c55adb711eca0f55c4a4c857ac5"
   ]
  },
  {
   "cell_type": "code",
   "execution_count": null,
   "id": "668882bd",
   "metadata": {},
   "outputs": [],
   "source": []
  },
  {
   "cell_type": "code",
   "execution_count": null,
   "id": "df1d6864",
   "metadata": {},
   "outputs": [],
   "source": []
  },
  {
   "cell_type": "code",
   "execution_count": 20,
   "id": "d653b941",
   "metadata": {},
   "outputs": [
    {
     "data": {
      "text/plain": [
       "[('dave', 'B', 10), ('jane', 'B', 12), ('john', 'A', 15)]"
      ]
     },
     "execution_count": 20,
     "metadata": {},
     "output_type": "execute_result"
    }
   ],
   "source": [
    "students = [('john', 'A', 15), ('jane', 'B', 12), ('dave', 'B', 10)]\n",
    "sorted(students, key=lambda s: s[2])            # 按年龄排序\n",
    "# [('dave', 'B', 10), ('jane', 'B', 12), ('john', 'A', 15)]"
   ]
  },
  {
   "cell_type": "code",
   "execution_count": 21,
   "id": "4ba67b74",
   "metadata": {},
   "outputs": [
    {
     "data": {
      "text/plain": [
       "[('dave', 'B', 10), ('jane', 'B', 12), ('john', 'A', 15)]"
      ]
     },
     "execution_count": 21,
     "metadata": {},
     "output_type": "execute_result"
    }
   ],
   "source": [
    "students = [('john', 'A', 15), ('jane', 'B', 12), ('dave', 'B', 10)]\n",
    "sorted(students)           # 按年龄排序\n",
    "# 会默认挑选 int 作为排序的 key"
   ]
  },
  {
   "cell_type": "code",
   "execution_count": null,
   "id": "186aa0db",
   "metadata": {},
   "outputs": [],
   "source": []
  },
  {
   "cell_type": "code",
   "execution_count": null,
   "id": "a707f0d2",
   "metadata": {},
   "outputs": [],
   "source": []
  },
  {
   "cell_type": "code",
   "execution_count": 24,
   "id": "80717ad0",
   "metadata": {},
   "outputs": [
    {
     "data": {
      "text/plain": [
       "(1, 3, 2, 1)"
      ]
     },
     "execution_count": 24,
     "metadata": {},
     "output_type": "execute_result"
    }
   ],
   "source": [
    "list1 = [1,2,3]\n",
    "list1[-0], list1[-1], list1[-2], list1[-3]"
   ]
  },
  {
   "cell_type": "code",
   "execution_count": 25,
   "id": "42e56e88",
   "metadata": {},
   "outputs": [
    {
     "data": {
      "text/plain": [
       "45"
      ]
     },
     "execution_count": 25,
     "metadata": {},
     "output_type": "execute_result"
    }
   ],
   "source": [
    "dep_relations = ['tmod', 'vmod', 'csubjpass', 'rcmod', 'ccomp', 'poss', 'parataxis', 'appos', 'dep', 'iobj', 'pobj',\n",
    "                 'mwe', 'quantmod', 'acomp', 'number', 'csubj', 'root', 'auxpass', 'prep', 'mark', 'expl', 'cc',\n",
    "                 'npadvmod', 'prt', 'nsubj', 'advmod', 'conj', 'advcl', 'punct', 'aux', 'pcomp', 'discourse',\n",
    "                 'nsubjpass', 'predet', 'cop', 'possessive', 'nn', 'xcomp', 'preconj', 'num', 'amod', 'dobj', 'neg',\n",
    "                 'dt', 'det']\n",
    "len(dep_relations)"
   ]
  },
  {
   "cell_type": "code",
   "execution_count": null,
   "id": "6ed4ff08",
   "metadata": {},
   "outputs": [],
   "source": []
  },
  {
   "cell_type": "markdown",
   "id": "3e4d9092",
   "metadata": {},
   "source": [
    "# Q4 的教训\n"
   ]
  },
  {
   "cell_type": "markdown",
   "id": "a1206e45",
   "metadata": {},
   "source": [
    "# 1. keras的 y = model.predict(x)\n",
    "\n",
    "y 与 x 都应该为 二位 数组， 行为数据的数量，列为数据维度。 换言之，不可以只输入一个单维的 list, 输出的二维数组（单向量）索引上也要注意，不如就 reshape 成单维的 (d,)"
   ]
  },
  {
   "cell_type": "code",
   "execution_count": null,
   "id": "bf59d3de",
   "metadata": {},
   "outputs": [],
   "source": []
  },
  {
   "cell_type": "code",
   "execution_count": null,
   "id": "1562fc01",
   "metadata": {},
   "outputs": [],
   "source": [
    "# 2. continue 语句\n",
    "\n",
    "跳过continue后面的循环体，进入下一轮循环条件的判断\n",
    "\n",
    "https://www.runoob.com/python/python-continue-statement.html?msclkid=4a949451b1a611eca4548e82bbd7b3de"
   ]
  },
  {
   "cell_type": "code",
   "execution_count": null,
   "id": "baf4fdc6",
   "metadata": {},
   "outputs": [],
   "source": []
  },
  {
   "cell_type": "code",
   "execution_count": null,
   "id": "b0f07a59",
   "metadata": {},
   "outputs": [],
   "source": []
  },
  {
   "cell_type": "code",
   "execution_count": null,
   "id": "90becd29",
   "metadata": {},
   "outputs": [],
   "source": []
  },
  {
   "cell_type": "code",
   "execution_count": null,
   "id": "2347b734",
   "metadata": {},
   "outputs": [],
   "source": []
  },
  {
   "cell_type": "code",
   "execution_count": null,
   "id": "5402ee65",
   "metadata": {},
   "outputs": [],
   "source": []
  },
  {
   "cell_type": "markdown",
   "id": "4057dd5c",
   "metadata": {},
   "source": [
    "# 空数组问题\n",
    "\n",
    "```\n",
    "if len(state.stack) == 0:\n",
    "    # stack is none, only shift allowable\n",
    "    state.shift()\n",
    "    continue\n",
    "```\n",
    "\n",
    "原来我的 if 条件是\n",
    "\n",
    "```\n",
    "state.stack is None\n",
    "```\n",
    "\n",
    "本想这样指代空数组，但 empty list [] 作为一个对象不是空的！！！\n",
    "\n",
    "这造成了这个句子不能parse，DependencyStructure tree 的depr字典 为空，导致了evaluate.py里一个 除以 字典、集合size 为0的错误"
   ]
  },
  {
   "cell_type": "code",
   "execution_count": 3,
   "id": "60e2179e",
   "metadata": {},
   "outputs": [
    {
     "name": "stdout",
     "output_type": "stream",
     "text": [
      "False\n"
     ]
    },
    {
     "data": {
      "text/plain": [
       "[]"
      ]
     },
     "execution_count": 3,
     "metadata": {},
     "output_type": "execute_result"
    }
   ],
   "source": [
    "print([] is None)\n",
    "[]"
   ]
  },
  {
   "cell_type": "markdown",
   "id": "f95df579",
   "metadata": {},
   "source": [
    "是否为空数组，可以直接利用 if 加 逻辑上为空的对象，不用说 len()，表达更简洁："
   ]
  },
  {
   "cell_type": "code",
   "execution_count": 5,
   "id": "851e1d8a",
   "metadata": {},
   "outputs": [
    {
     "name": "stdout",
     "output_type": "stream",
     "text": [
      "false\n"
     ]
    }
   ],
   "source": [
    "if []:\n",
    "    print(\"true\")\n",
    "else:\n",
    "    print(\"false\")"
   ]
  },
  {
   "cell_type": "code",
   "execution_count": 7,
   "id": "05a3816f",
   "metadata": {},
   "outputs": [
    {
     "name": "stdout",
     "output_type": "stream",
     "text": [
      "true\n"
     ]
    }
   ],
   "source": [
    "if not []:\n",
    "    print(\"true\")"
   ]
  },
  {
   "cell_type": "code",
   "execution_count": null,
   "id": "d6eebab7",
   "metadata": {},
   "outputs": [],
   "source": []
  },
  {
   "cell_type": "code",
   "execution_count": null,
   "id": "ec537766",
   "metadata": {},
   "outputs": [],
   "source": []
  },
  {
   "cell_type": "code",
   "execution_count": null,
   "id": "75843896",
   "metadata": {},
   "outputs": [],
   "source": []
  }
 ],
 "metadata": {
  "kernelspec": {
   "display_name": "Python 3",
   "language": "python",
   "name": "python3"
  },
  "language_info": {
   "codemirror_mode": {
    "name": "ipython",
    "version": 3
   },
   "file_extension": ".py",
   "mimetype": "text/x-python",
   "name": "python",
   "nbconvert_exporter": "python",
   "pygments_lexer": "ipython3",
   "version": "3.9.7"
  }
 },
 "nbformat": 4,
 "nbformat_minor": 5
}
